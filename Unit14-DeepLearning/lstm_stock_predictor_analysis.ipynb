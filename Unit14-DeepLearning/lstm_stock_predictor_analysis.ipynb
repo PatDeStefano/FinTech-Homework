{
 "cells": [
  {
   "cell_type": "markdown",
   "id": "hired-shade",
   "metadata": {},
   "source": [
    "# Evaluate the performance of each model"
   ]
  },
  {
   "cell_type": "markdown",
   "id": "pleasant-horse",
   "metadata": {},
   "source": [
    "##### 1. Which model has a lower loss?"
   ]
  },
  {
   "cell_type": "markdown",
   "id": "spiritual-integrity",
   "metadata": {},
   "source": [
    "The closing model has the lowest loss."
   ]
  },
  {
   "cell_type": "markdown",
   "id": "stock-brook",
   "metadata": {},
   "source": [
    "##### 2. Which model tracks the actual values better over time?"
   ]
  },
  {
   "cell_type": "markdown",
   "id": "organized-trash",
   "metadata": {},
   "source": [
    "They were both similar but the plot on the closing model seems to track the values better over time."
   ]
  },
  {
   "cell_type": "markdown",
   "id": "verified-notebook",
   "metadata": {},
   "source": [
    "##### 3. Which window size works best for the model?"
   ]
  },
  {
   "cell_type": "markdown",
   "id": "professional-process",
   "metadata": {},
   "source": [
    "The lower the window size works best for the model. The smaller window size decreases the loss."
   ]
  }
 ],
 "metadata": {
  "kernelspec": {
   "display_name": "Python 3",
   "language": "python",
   "name": "python3"
  },
  "language_info": {
   "codemirror_mode": {
    "name": "ipython",
    "version": 3
   },
   "file_extension": ".py",
   "mimetype": "text/x-python",
   "name": "python",
   "nbconvert_exporter": "python",
   "pygments_lexer": "ipython3",
   "version": "3.8.5"
  }
 },
 "nbformat": 4,
 "nbformat_minor": 5
}
